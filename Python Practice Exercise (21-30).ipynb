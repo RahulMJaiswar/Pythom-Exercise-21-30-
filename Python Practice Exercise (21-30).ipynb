{
 "cells": [
  {
   "cell_type": "markdown",
   "metadata": {},
   "source": [
    "# 21. Convert a 1D array to a 2D array containing 2 rows\n",
    "\n",
    "Use the array given below:\n",
    "\n",
    "dim_1 = ([331, 245, 246, 475, 348, 229])"
   ]
  },
  {
   "cell_type": "code",
   "execution_count": 2,
   "metadata": {},
   "outputs": [],
   "source": [
    "import numpy as np"
   ]
  },
  {
   "cell_type": "code",
   "execution_count": 3,
   "metadata": {},
   "outputs": [
    {
     "name": "stdout",
     "output_type": "stream",
     "text": [
      "1D: [331 245 246 475 348 229]\n",
      "\n",
      "\n"
     ]
    }
   ],
   "source": [
    "# given 1D array\n",
    "dim_1 = ([331, 245, 246, 475, 348, 229])\n",
    "dim_1 = np.array(dim_1)\n",
    "print('1D:', dim_1)\n",
    "print('\\n')\n",
    "\n",
    "# convert the given array to 2D array\n",
    "# reshape(2,-1) changes number of rows, keeping number of columns unchanged\n",
    "dim_2 = dim_1.reshape(2, -1)  \n",
    "\n",
    "# print the 2D array"
   ]
  },
  {
   "cell_type": "code",
   "execution_count": 5,
   "metadata": {},
   "outputs": [],
   "source": [
    "import pandas as pd"
   ]
  },
  {
   "cell_type": "markdown",
   "metadata": {},
   "source": [
    "# 22. Find the average cost of each variety of product available in the three different shops\n",
    "\n",
    "Use the data given below:\n",
    "\n",
    "[[10, 20, 30], [17, 14, 21], [25, 15, 12]], columns=['product_a', 'product_b', 'product_c'], index=['Shop1', 'Shop2', 'Shop3']"
   ]
  },
  {
   "cell_type": "code",
   "execution_count": 6,
   "metadata": {},
   "outputs": [
    {
     "name": "stdout",
     "output_type": "stream",
     "text": [
      "       product_a  product_b  product_c\n",
      "Shop1         10         20         30\n",
      "Shop2         17         14         21\n",
      "Shop3         25         15         12\n",
      "\n",
      " Calculate Mean \n",
      "\n",
      "product_a    17.333333\n",
      "product_b    16.333333\n",
      "product_c    21.000000\n",
      "dtype: float64\n"
     ]
    }
   ],
   "source": [
    "# given data\n",
    "df_product = pd.DataFrame([[10, 20, 30], [17, 14, 21], [25, 15, 12]],\n",
    "                  columns=['product_a', 'product_b', 'product_c'],\n",
    "                  index=['Shop1', 'Shop2', 'Shop3'])\n",
    "print(df_product)\n",
    "\n",
    "print(\"\\n Calculate Mean \\n\")\n",
    "\n",
    "# calculate the mean of each variety of product\n",
    "print(df_product.mean())"
   ]
  },
  {
   "cell_type": "code",
   "execution_count": 7,
   "metadata": {},
   "outputs": [],
   "source": [
    "import matplotlib.pyplot as plt"
   ]
  },
  {
   "cell_type": "markdown",
   "metadata": {},
   "source": [
    "# 23. Write a program to create a histogram using given data\n",
    "\n",
    "Use the list given below:\n",
    "\n",
    "weight = [34,56,43,22,2,58,89,78,67,56,65,43,23]"
   ]
  },
  {
   "cell_type": "code",
   "execution_count": 8,
   "metadata": {},
   "outputs": [
    {
     "data": {
      "image/png": "[encoded data removed]",
      "text/plain": [
       "<Figure size 432x288 with 1 Axes>"
      ]
     },
     "metadata": {
      "needs_background": "light"
     },
     "output_type": "display_data"
    }
   ],
   "source": [
    "# import matplotlib\n",
    "import matplotlib.pyplot as plt\n",
    "\n",
    "# given data\n",
    "weight = [34,56,43,22,2,58,89,78,67,56,65,43,23]\n",
    "\n",
    "# plot a histogram\n",
    "plt.hist(weight, color='green', rwidth=0.8)\n",
    "\n",
    "# set the labels to axes and graph \n",
    "plt.xlabel('Age')\n",
    "plt.ylabel('Number of people')\n",
    "plt.title('Histogram')\n",
    "\n",
    "plt.show()"
   ]
  },
  {
   "cell_type": "markdown",
   "metadata": {},
   "source": [
    "# 24. Write a program to delete items from series_a that are present in series_b and print the updated series_a\n",
    "\n",
    "Use the series given below:\n",
    "\n",
    "series_a = ([11, 12, 13, 14, 15])\n",
    "series_b= ([14, 15, 16, 17, 18])\n",
    "\n"
   ]
  },
  {
   "cell_type": "code",
   "execution_count": 9,
   "metadata": {},
   "outputs": [
    {
     "name": "stdout",
     "output_type": "stream",
     "text": [
      "updated_series1: \n",
      " 0    11\n",
      "1    12\n",
      "2    13\n",
      "dtype: int64\n"
     ]
    }
   ],
   "source": [
    "# given data\n",
    "series_a = pd.Series([11, 12, 13, 14, 15])\n",
    "series_b = pd.Series([14, 15, 16, 17, 18])\n",
    "\n",
    "# remove the common elements between series1 and series2 from series1 \n",
    "# update series1\n",
    "series_a = series_a[~series_a.isin(series_b)]\n",
    "\n",
    "print('updated_series1: \\n', series_a)"
   ]
  },
  {
   "cell_type": "markdown",
   "metadata": {},
   "source": [
    "# 25. Create a series of 40 random numbers and transform it into a dataframe containing seven columns and five rows\n",
    "\n"
   ]
  },
  {
   "cell_type": "code",
   "execution_count": 10,
   "metadata": {},
   "outputs": [
    {
     "data": {
      "text/html": [
       "<div>\n",
       "<style scoped>\n",
       "    .dataframe tbody tr th:only-of-type {\n",
       "        vertical-align: middle;\n",
       "    }\n",
       "\n",
       "    .dataframe tbody tr th {\n",
       "        vertical-align: top;\n",
       "    }\n",
       "\n",
       "    .dataframe thead th {\n",
       "        text-align: right;\n",
       "    }\n",
       "</style>\n",
       "<table border=\"1\" class=\"dataframe\">\n",
       "  <thead>\n",
       "    <tr style=\"text-align: right;\">\n",
       "      <th></th>\n",
       "      <th>0</th>\n",
       "      <th>1</th>\n",
       "      <th>2</th>\n",
       "      <th>3</th>\n",
       "      <th>4</th>\n",
       "      <th>5</th>\n",
       "      <th>6</th>\n",
       "      <th>7</th>\n",
       "    </tr>\n",
       "  </thead>\n",
       "  <tbody>\n",
       "    <tr>\n",
       "      <th>0</th>\n",
       "      <td>5</td>\n",
       "      <td>3</td>\n",
       "      <td>1</td>\n",
       "      <td>9</td>\n",
       "      <td>4</td>\n",
       "      <td>4</td>\n",
       "      <td>3</td>\n",
       "      <td>7</td>\n",
       "    </tr>\n",
       "    <tr>\n",
       "      <th>1</th>\n",
       "      <td>2</td>\n",
       "      <td>8</td>\n",
       "      <td>9</td>\n",
       "      <td>9</td>\n",
       "      <td>7</td>\n",
       "      <td>6</td>\n",
       "      <td>5</td>\n",
       "      <td>7</td>\n",
       "    </tr>\n",
       "    <tr>\n",
       "      <th>2</th>\n",
       "      <td>8</td>\n",
       "      <td>7</td>\n",
       "      <td>1</td>\n",
       "      <td>2</td>\n",
       "      <td>5</td>\n",
       "      <td>7</td>\n",
       "      <td>4</td>\n",
       "      <td>9</td>\n",
       "    </tr>\n",
       "    <tr>\n",
       "      <th>3</th>\n",
       "      <td>4</td>\n",
       "      <td>9</td>\n",
       "      <td>4</td>\n",
       "      <td>6</td>\n",
       "      <td>5</td>\n",
       "      <td>6</td>\n",
       "      <td>9</td>\n",
       "      <td>3</td>\n",
       "    </tr>\n",
       "    <tr>\n",
       "      <th>4</th>\n",
       "      <td>7</td>\n",
       "      <td>1</td>\n",
       "      <td>9</td>\n",
       "      <td>4</td>\n",
       "      <td>1</td>\n",
       "      <td>9</td>\n",
       "      <td>6</td>\n",
       "      <td>3</td>\n",
       "    </tr>\n",
       "  </tbody>\n",
       "</table>\n",
       "</div>"
      ],
      "text/plain": [
       "   0  1  2  3  4  5  6  7\n",
       "0  5  3  1  9  4  4  3  7\n",
       "1  2  8  9  9  7  6  5  7\n",
       "2  8  7  1  2  5  7  4  9\n",
       "3  4  9  4  6  5  6  9  3\n",
       "4  7  1  9  4  1  9  6  3"
      ]
     },
     "execution_count": 10,
     "metadata": {},
     "output_type": "execute_result"
    }
   ],
   "source": [
    "# create a series of random numbers\n",
    "num = pd.Series(np.random.randint(1, 10, 40))\n",
    "\n",
    "# transform the 'num' to dataframe of required shape\n",
    "df_numbers = pd.DataFrame(num.values.reshape(5,8))\n",
    "\n",
    "# transformed dataframe\n",
    "df_numbers"
   ]
  },
  {
   "cell_type": "markdown",
   "metadata": {},
   "source": [
    "# 26. Get common elements from the two arrays\n",
    "\n",
    "Use the array given below:\n",
    "\n",
    "  test_a = np.array([11,12,13,22,23,44,43,24,45,36])\n",
    "  test_b = np.array([17,22,13,22,47,34,39,44,29,28])"
   ]
  },
  {
   "cell_type": "code",
   "execution_count": 11,
   "metadata": {},
   "outputs": [
    {
     "data": {
      "text/plain": [
       "array([13, 22, 44])"
      ]
     },
     "execution_count": 11,
     "metadata": {},
     "output_type": "execute_result"
    }
   ],
   "source": [
    "# create an array\n",
    "test_a = np.array([11,12,13,22,23,44,43,24,45,36])\n",
    "\n",
    "# create an array\n",
    "test_b = np.array([17,22,13,22,47,34,39,44,29,28])\n",
    "\n",
    "# use np.intersect1d() to get common elements\n",
    "np.intersect1d(test_a,test_b)"
   ]
  },
  {
   "cell_type": "markdown",
   "metadata": {},
   "source": [
    "# 27. Import dataset 'flights' from library seaborn. Check for datatypes of all variable."
   ]
  },
  {
   "cell_type": "code",
   "execution_count": 12,
   "metadata": {},
   "outputs": [],
   "source": [
    "import seaborn as sns"
   ]
  },
  {
   "cell_type": "code",
   "execution_count": 13,
   "metadata": {},
   "outputs": [],
   "source": [
    "# import required libraries\n",
    "import seaborn as sns\n",
    "\n",
    "# load the flights data set as flight\n",
    "df_flight = sns.load_dataset('flights')"
   ]
  },
  {
   "cell_type": "code",
   "execution_count": 14,
   "metadata": {},
   "outputs": [
    {
     "data": {
      "text/plain": [
       "year             int64\n",
       "month         category\n",
       "passengers       int64\n",
       "dtype: object"
      ]
     },
     "execution_count": 14,
     "metadata": {},
     "output_type": "execute_result"
    }
   ],
   "source": [
    "df_flight.dtypes"
   ]
  },
  {
   "cell_type": "markdown",
   "metadata": {},
   "source": [
    "# 28. Compute total sales for each product and country\n",
    "\n",
    "Use the dataframe given below:\n",
    "\n",
    "\n",
    "Prod Country\tSales\n",
    "A\tUSA\t        44000\n",
    "J\tJapan\t    43000\n",
    "A\tEurope\t    54000\n",
    "L\tJapan\t    95600\n",
    "R\tEurope\t    79000\n",
    "A\tUSA\t        67000\n",
    "R\tUSA\t        68000\n",
    "J\tJapan\t    38000\n",
    "L\tUSA\t        59000\n",
    "A\tEurope\t    60000\n"
   ]
  },
  {
   "cell_type": "code",
   "execution_count": 15,
   "metadata": {},
   "outputs": [
    {
     "data": {
      "text/html": [
       "<div>\n",
       "<style scoped>\n",
       "    .dataframe tbody tr th:only-of-type {\n",
       "        vertical-align: middle;\n",
       "    }\n",
       "\n",
       "    .dataframe tbody tr th {\n",
       "        vertical-align: top;\n",
       "    }\n",
       "\n",
       "    .dataframe thead th {\n",
       "        text-align: right;\n",
       "    }\n",
       "</style>\n",
       "<table border=\"1\" class=\"dataframe\">\n",
       "  <thead>\n",
       "    <tr style=\"text-align: right;\">\n",
       "      <th></th>\n",
       "      <th>Product</th>\n",
       "      <th>Country</th>\n",
       "      <th>Sales</th>\n",
       "    </tr>\n",
       "  </thead>\n",
       "  <tbody>\n",
       "    <tr>\n",
       "      <th>0</th>\n",
       "      <td>A</td>\n",
       "      <td>USA</td>\n",
       "      <td>44000</td>\n",
       "    </tr>\n",
       "    <tr>\n",
       "      <th>1</th>\n",
       "      <td>J</td>\n",
       "      <td>Japan</td>\n",
       "      <td>43000</td>\n",
       "    </tr>\n",
       "    <tr>\n",
       "      <th>2</th>\n",
       "      <td>A</td>\n",
       "      <td>Europe</td>\n",
       "      <td>54000</td>\n",
       "    </tr>\n",
       "    <tr>\n",
       "      <th>3</th>\n",
       "      <td>L</td>\n",
       "      <td>Japan</td>\n",
       "      <td>95600</td>\n",
       "    </tr>\n",
       "    <tr>\n",
       "      <th>4</th>\n",
       "      <td>R</td>\n",
       "      <td>Europe</td>\n",
       "      <td>79000</td>\n",
       "    </tr>\n",
       "    <tr>\n",
       "      <th>5</th>\n",
       "      <td>A</td>\n",
       "      <td>USA</td>\n",
       "      <td>67000</td>\n",
       "    </tr>\n",
       "    <tr>\n",
       "      <th>6</th>\n",
       "      <td>R</td>\n",
       "      <td>USA</td>\n",
       "      <td>68000</td>\n",
       "    </tr>\n",
       "    <tr>\n",
       "      <th>7</th>\n",
       "      <td>J</td>\n",
       "      <td>Japan</td>\n",
       "      <td>38000</td>\n",
       "    </tr>\n",
       "    <tr>\n",
       "      <th>8</th>\n",
       "      <td>L</td>\n",
       "      <td>USA</td>\n",
       "      <td>59000</td>\n",
       "    </tr>\n",
       "    <tr>\n",
       "      <th>9</th>\n",
       "      <td>A</td>\n",
       "      <td>Europe</td>\n",
       "      <td>60000</td>\n",
       "    </tr>\n",
       "  </tbody>\n",
       "</table>\n",
       "</div>"
      ],
      "text/plain": [
       "  Product Country  Sales\n",
       "0       A     USA  44000\n",
       "1       J   Japan  43000\n",
       "2       A  Europe  54000\n",
       "3       L   Japan  95600\n",
       "4       R  Europe  79000\n",
       "5       A     USA  67000\n",
       "6       R     USA  68000\n",
       "7       J   Japan  38000\n",
       "8       L     USA  59000\n",
       "9       A  Europe  60000"
      ]
     },
     "execution_count": 15,
     "metadata": {},
     "output_type": "execute_result"
    }
   ],
   "source": [
    "# create a dataframe\n",
    "df_sales = pd.DataFrame({'Product': ['A', 'J', 'A', 'L', 'R', 'A', 'R', 'J', 'L', 'A'],\n",
    "'Country': ['USA', 'Japan', 'Europe', 'Japan', 'Europe', 'USA', 'USA', 'Japan',\n",
    "'USA', 'Europe'],\n",
    "'Sales': [44000, 43000, 54000, 95600, 79000, 67000, 68000, 38000, 59000, 60000]})\n",
    "\n",
    "# print the dataframe\n",
    "df_sales"
   ]
  },
  {
   "cell_type": "code",
   "execution_count": 16,
   "metadata": {},
   "outputs": [
    {
     "data": {
      "text/html": [
       "<div>\n",
       "<style scoped>\n",
       "    .dataframe tbody tr th:only-of-type {\n",
       "        vertical-align: middle;\n",
       "    }\n",
       "\n",
       "    .dataframe tbody tr th {\n",
       "        vertical-align: top;\n",
       "    }\n",
       "\n",
       "    .dataframe thead tr th {\n",
       "        text-align: left;\n",
       "    }\n",
       "\n",
       "    .dataframe thead tr:last-of-type th {\n",
       "        text-align: right;\n",
       "    }\n",
       "</style>\n",
       "<table border=\"1\" class=\"dataframe\">\n",
       "  <thead>\n",
       "    <tr>\n",
       "      <th></th>\n",
       "      <th colspan=\"3\" halign=\"left\">sum</th>\n",
       "    </tr>\n",
       "    <tr>\n",
       "      <th>Country</th>\n",
       "      <th>Europe</th>\n",
       "      <th>Japan</th>\n",
       "      <th>USA</th>\n",
       "    </tr>\n",
       "    <tr>\n",
       "      <th>Product</th>\n",
       "      <th></th>\n",
       "      <th></th>\n",
       "      <th></th>\n",
       "    </tr>\n",
       "  </thead>\n",
       "  <tbody>\n",
       "    <tr>\n",
       "      <th>A</th>\n",
       "      <td>114000.0</td>\n",
       "      <td>NaN</td>\n",
       "      <td>111000.0</td>\n",
       "    </tr>\n",
       "    <tr>\n",
       "      <th>J</th>\n",
       "      <td>NaN</td>\n",
       "      <td>81000.0</td>\n",
       "      <td>NaN</td>\n",
       "    </tr>\n",
       "    <tr>\n",
       "      <th>L</th>\n",
       "      <td>NaN</td>\n",
       "      <td>95600.0</td>\n",
       "      <td>59000.0</td>\n",
       "    </tr>\n",
       "    <tr>\n",
       "      <th>R</th>\n",
       "      <td>79000.0</td>\n",
       "      <td>NaN</td>\n",
       "      <td>68000.0</td>\n",
       "    </tr>\n",
       "  </tbody>\n",
       "</table>\n",
       "</div>"
      ],
      "text/plain": [
       "              sum                   \n",
       "Country    Europe    Japan       USA\n",
       "Product                             \n",
       "A        114000.0      NaN  111000.0\n",
       "J             NaN  81000.0       NaN\n",
       "L             NaN  95600.0   59000.0\n",
       "R         79000.0      NaN   68000.0"
      ]
     },
     "execution_count": 16,
     "metadata": {},
     "output_type": "execute_result"
    }
   ],
   "source": [
    "# use the pivot table\n",
    "# values: column to aggregate\n",
    "# columns: values to group by in the columns\n",
    "# aggfunc = 'sum': calculate the total \n",
    "# index: row labels\n",
    "pd.pivot_table(df_sales, values='Sales', index=['Product'], columns='Country', aggfunc=['sum'])"
   ]
  },
  {
   "cell_type": "markdown",
   "metadata": {},
   "source": [
    "# 29. Get the descriptive statistics of the sales for each Country"
   ]
  },
  {
   "cell_type": "code",
   "execution_count": 17,
   "metadata": {},
   "outputs": [
    {
     "data": {
      "text/html": [
       "<div>\n",
       "<style scoped>\n",
       "    .dataframe tbody tr th:only-of-type {\n",
       "        vertical-align: middle;\n",
       "    }\n",
       "\n",
       "    .dataframe tbody tr th {\n",
       "        vertical-align: top;\n",
       "    }\n",
       "\n",
       "    .dataframe thead tr th {\n",
       "        text-align: left;\n",
       "    }\n",
       "\n",
       "    .dataframe thead tr:last-of-type th {\n",
       "        text-align: right;\n",
       "    }\n",
       "</style>\n",
       "<table border=\"1\" class=\"dataframe\">\n",
       "  <thead>\n",
       "    <tr>\n",
       "      <th></th>\n",
       "      <th colspan=\"8\" halign=\"left\">Sales</th>\n",
       "    </tr>\n",
       "    <tr>\n",
       "      <th></th>\n",
       "      <th>count</th>\n",
       "      <th>mean</th>\n",
       "      <th>std</th>\n",
       "      <th>min</th>\n",
       "      <th>25%</th>\n",
       "      <th>50%</th>\n",
       "      <th>75%</th>\n",
       "      <th>max</th>\n",
       "    </tr>\n",
       "    <tr>\n",
       "      <th>Country</th>\n",
       "      <th></th>\n",
       "      <th></th>\n",
       "      <th></th>\n",
       "      <th></th>\n",
       "      <th></th>\n",
       "      <th></th>\n",
       "      <th></th>\n",
       "      <th></th>\n",
       "    </tr>\n",
       "  </thead>\n",
       "  <tbody>\n",
       "    <tr>\n",
       "      <th>Europe</th>\n",
       "      <td>3.0</td>\n",
       "      <td>64333.333333</td>\n",
       "      <td>13051.181300</td>\n",
       "      <td>54000.0</td>\n",
       "      <td>57000.0</td>\n",
       "      <td>60000.0</td>\n",
       "      <td>69500.0</td>\n",
       "      <td>79000.0</td>\n",
       "    </tr>\n",
       "    <tr>\n",
       "      <th>Japan</th>\n",
       "      <td>3.0</td>\n",
       "      <td>58866.666667</td>\n",
       "      <td>31910.082001</td>\n",
       "      <td>38000.0</td>\n",
       "      <td>40500.0</td>\n",
       "      <td>43000.0</td>\n",
       "      <td>69300.0</td>\n",
       "      <td>95600.0</td>\n",
       "    </tr>\n",
       "    <tr>\n",
       "      <th>USA</th>\n",
       "      <td>4.0</td>\n",
       "      <td>59500.000000</td>\n",
       "      <td>11090.536506</td>\n",
       "      <td>44000.0</td>\n",
       "      <td>55250.0</td>\n",
       "      <td>63000.0</td>\n",
       "      <td>67250.0</td>\n",
       "      <td>68000.0</td>\n",
       "    </tr>\n",
       "  </tbody>\n",
       "</table>\n",
       "</div>"
      ],
      "text/plain": [
       "        Sales                                                                  \\\n",
       "        count          mean           std      min      25%      50%      75%   \n",
       "Country                                                                         \n",
       "Europe    3.0  64333.333333  13051.181300  54000.0  57000.0  60000.0  69500.0   \n",
       "Japan     3.0  58866.666667  31910.082001  38000.0  40500.0  43000.0  69300.0   \n",
       "USA       4.0  59500.000000  11090.536506  44000.0  55250.0  63000.0  67250.0   \n",
       "\n",
       "                  \n",
       "             max  \n",
       "Country           \n",
       "Europe   79000.0  \n",
       "Japan    95600.0  \n",
       "USA      68000.0  "
      ]
     },
     "execution_count": 17,
     "metadata": {},
     "output_type": "execute_result"
    }
   ],
   "source": [
    "# use groupby() to group the dataframe by seasons and then find the descriptive statistics of the sales for each season\n",
    "df_sales.groupby([\"Country\"])[[\"Sales\"]].describe()"
   ]
  },
  {
   "cell_type": "markdown",
   "metadata": {},
   "source": [
    "# 30. Reverse each of the rows of the 2D array\n",
    "\n",
    "Use the array given below:\n",
    "\n",
    "num_array = np.arange(20).reshape(4,5)"
   ]
  },
  {
   "cell_type": "code",
   "execution_count": 18,
   "metadata": {},
   "outputs": [
    {
     "data": {
      "text/plain": [
       "array([[ 0,  1,  2,  3,  4],\n",
       "       [ 5,  6,  7,  8,  9],\n",
       "       [10, 11, 12, 13, 14],\n",
       "       [15, 16, 17, 18, 19]])"
      ]
     },
     "execution_count": 18,
     "metadata": {},
     "output_type": "execute_result"
    }
   ],
   "source": [
    "# create an array\n",
    "num_array = np.arange(20).reshape(4,5)\n",
    "\n",
    "# print the array\n",
    "num_array"
   ]
  },
  {
   "cell_type": "code",
   "execution_count": null,
   "metadata": {},
   "outputs": [],
   "source": []
  }
 ],
 "metadata": {
  "kernelspec": {
   "display_name": "Python 3",
   "language": "python",
   "name": "python3"
  },
  "language_info": {
   "codemirror_mode": {
    "name": "ipython",
    "version": 3
   },
   "file_extension": ".py",
   "mimetype": "text/x-python",
   "name": "python",
   "nbconvert_exporter": "python",
   "pygments_lexer": "ipython3",
   "version": "3.7.6"
  }
 },
 "nbformat": 4,
 "nbformat_minor": 4
}
